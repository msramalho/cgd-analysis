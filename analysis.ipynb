{
 "cells": [
  {
   "cell_type": "markdown",
   "metadata": {},
   "source": [
    "<h1 align=\"center\">Caixa Geral de Depósitos Overview</h1>\n",
    "\n",
    "A notebook that allows for easy import and easy analysis through python on your CGD account balance."
   ]
  },
  {
   "cell_type": "code",
   "execution_count": null,
   "metadata": {},
   "outputs": [],
   "source": [
    "import pandas as pd\n",
    "from math import isnan\n",
    "import matplotlib.pyplot as plt"
   ]
  },
  {
   "cell_type": "markdown",
   "metadata": {},
   "source": [
    "# Data gathering instructions\n",
    " * Go to Dashboard\n",
    " * \"Contas à ordem\" -> \"Saldos e Movimentos\"\n",
    " * Select the dates between which you want to export\n",
    " * Upper right corner -> \"Gravar em XLS\"\n",
    " * Place the `.csv` document in the same folder as this notebook and run the cells\n",
    " * The document should be named `conta.csv`\n",
    " * Done"
   ]
  },
  {
   "cell_type": "markdown",
   "metadata": {},
   "source": [
    "# Reading from csv\n",
    "(explanation)\n",
    " * Exclude first 6 rows\n",
    " * Use special encoding\n",
    " * Separator is `;` instead of `,`\n",
    " * Remove last two lines, which are just Totals\n",
    " * Drop last column, which is just \",,,\""
   ]
  },
  {
   "cell_type": "code",
   "execution_count": null,
   "metadata": {},
   "outputs": [],
   "source": [
    "def replace_numeric_column(df, name):\n",
    "    df[name] = df[name].apply(lambda x: str(x).replace(\".\",\"\").replace(\",\",\".\"))\n",
    "    df[name] = pd.to_numeric(df[name], errors='coerce')"
   ]
  },
  {
   "cell_type": "code",
   "execution_count": null,
   "metadata": {},
   "outputs": [],
   "source": [
    "types={}\n",
    "df = pd.read_csv(\"conta.csv\", header=6, encoding=\"ISO-8859-1\", sep=\";\", decimal=\",\", thousands=\".\")\n",
    "df.columns = df.columns.str.replace(\" \", \"\")\n",
    "df.drop(df.tail(2).index,inplace=True) # instead of skipfooter (which cannot use C) just remove last 2 rows\n",
    "df = df.drop([\",,,\"], axis=1)\n",
    "\n",
    "replace_numeric_column(df, 'Débito')\n",
    "replace_numeric_column(df, 'Crédito')\n",
    "replace_numeric_column(df, 'SaldoContab.')\n",
    "replace_numeric_column(df, 'Saldodisponível')\n",
    "df.head()"
   ]
  },
  {
   "cell_type": "markdown",
   "metadata": {},
   "source": [
    "### Merge Debit and Credit\n",
    "Merge into one column with positive and negative balances"
   ]
  },
  {
   "cell_type": "code",
   "execution_count": null,
   "metadata": {},
   "outputs": [],
   "source": [
    "def get_montante(deb, cred):\n",
    "    if isnan(float(deb)):\n",
    "        return cred\n",
    "    else:\n",
    "        return -float(deb)\n",
    "df[\"Montante\"] = df.apply(lambda row: get_montante(row['Débito'], row['Crédito']), axis=1);"
   ]
  },
  {
   "cell_type": "code",
   "execution_count": null,
   "metadata": {},
   "outputs": [],
   "source": [
    "df = df.drop(['Débito', 'Crédito'], axis=1)\n",
    "df.head()"
   ]
  },
  {
   "cell_type": "code",
   "execution_count": null,
   "metadata": {},
   "outputs": [],
   "source": [
    "pd.to_datetime(df['Datamov.']);\n",
    "pd.to_datetime(df['Datavalor']);"
   ]
  },
  {
   "cell_type": "markdown",
   "metadata": {},
   "source": [
    "## Plot Account Movements"
   ]
  },
  {
   "cell_type": "code",
   "execution_count": null,
   "metadata": {},
   "outputs": [],
   "source": [
    "def plot_reverse(tdf):\n",
    "    tdf.plot(figsize=(20,10));\n",
    "    plt.gca().invert_xaxis()\n",
    "    plt.suptitle(\"Overall Evolution\", fontsize=30);\n",
    "    tdf.drop(columns=[\"SaldoContab.\",\"Saldodisponível\"]).plot(figsize=(10,5),color=[\"g\"]);\n",
    "    plt.gca().invert_xaxis()\n",
    "    plt.suptitle(\"Montante evolution\", fontsize=30);"
   ]
  },
  {
   "cell_type": "code",
   "execution_count": null,
   "metadata": {},
   "outputs": [],
   "source": [
    "plot_reverse(df)"
   ]
  },
  {
   "cell_type": "markdown",
   "metadata": {},
   "source": [
    "## Higest Withdrawals"
   ]
  },
  {
   "cell_type": "code",
   "execution_count": null,
   "metadata": {},
   "outputs": [],
   "source": [
    "df.sort_values(by=[\"Montante\"]).head(10)"
   ]
  },
  {
   "cell_type": "markdown",
   "metadata": {},
   "source": [
    "## Higest Deposits"
   ]
  },
  {
   "cell_type": "code",
   "execution_count": null,
   "metadata": {},
   "outputs": [],
   "source": [
    "df.sort_values(by=[\"Montante\"],ascending=False).head(10)"
   ]
  },
  {
   "cell_type": "markdown",
   "metadata": {},
   "source": [
    "## Search Query\n",
    "regex is accepted: `query=\"deposit.*soft\"`"
   ]
  },
  {
   "cell_type": "code",
   "execution_count": null,
   "metadata": {
    "scrolled": false
   },
   "outputs": [],
   "source": [
    "def perform_query(sender):\n",
    "    query = sender.value # get the input value\n",
    "    matches = df[df['Descrição'].str.contains(query,case=False,regex=True)==True]\n",
    "    print(\"Found: %d matches\" % len(matches))\n",
    "    print(\"Total moved:     %.2f\" % matches[\"Montante\"].abs().sum())\n",
    "    print(\"Total withdrawn: %.2f\" % matches[matches.Montante <0].Montante.abs().sum())\n",
    "    print(\"Total deposited: %.2f\" % matches[matches.Montante >0].Montante.sum())\n",
    "    plot_reverse(matches) # show the plot\n",
    "    display(matches) # display the dataframe"
   ]
  },
  {
   "cell_type": "code",
   "execution_count": null,
   "metadata": {
    "scrolled": false
   },
   "outputs": [],
   "source": [
    "from ipywidgets import widgets, Layout\n",
    "q = widgets.Text(\n",
    "    value='',\n",
    "    placeholder='Your regex search query (you can use any regex feature, try: \".*\")',\n",
    "    description='Search for:',\n",
    "    layout=Layout(width='60%')\n",
    ")\n",
    "q.on_submit(perform_query)\n",
    "display(q)"
   ]
  },
  {
   "cell_type": "markdown",
   "metadata": {},
   "source": [
    "## Further analysis\n",
    "Perform more analysis on `df` as you please"
   ]
  },
  {
   "cell_type": "code",
   "execution_count": null,
   "metadata": {},
   "outputs": [],
   "source": [
    "df.head()"
   ]
  }
 ],
 "metadata": {
  "kernelspec": {
   "display_name": "Python 3",
   "language": "python",
   "name": "python3"
  },
  "language_info": {
   "codemirror_mode": {
    "name": "ipython",
    "version": 3
   },
   "file_extension": ".py",
   "mimetype": "text/x-python",
   "name": "python",
   "nbconvert_exporter": "python",
   "pygments_lexer": "ipython3",
   "version": "3.6.4"
  }
 },
 "nbformat": 4,
 "nbformat_minor": 2
}
